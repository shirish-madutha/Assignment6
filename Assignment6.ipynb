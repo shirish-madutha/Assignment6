{
 "cells": [
  {
   "cell_type": "code",
   "execution_count": 22,
   "id": "72dd2111-4e82-402d-a193-64e00e4f1866",
   "metadata": {},
   "outputs": [
    {
     "name": "stdin",
     "output_type": "stream",
     "text": [
      "Enter your percentage :  91\n"
     ]
    },
    {
     "name": "stdout",
     "output_type": "stream",
     "text": [
      "A\n"
     ]
    }
   ],
   "source": [
    "# Q1\n",
    "user=int(input(\"Enter your percentage : \"))\n",
    "if user>90:\n",
    "    print(\"A\")\n",
    "elif user>80 and user<=90:\n",
    "    print(\"B\")\n",
    "elif user>=60 and user<=80:\n",
    "    print(\"C\")\n",
    "elif user<60:\n",
    "    print(\"D\")"
   ]
  },
  {
   "cell_type": "code",
   "execution_count": 23,
   "id": "3e1b0ebc-39e6-49b4-9592-0ab3e50cdb77",
   "metadata": {},
   "outputs": [
    {
     "name": "stdin",
     "output_type": "stream",
     "text": [
      "Enter your bike price :  240000\n"
     ]
    },
    {
     "name": "stdout",
     "output_type": "stream",
     "text": [
      "The road tax to be paid is Rs. 36000.0\n"
     ]
    }
   ],
   "source": [
    "# Q2\n",
    "user=int(input(\"Enter your bike price : \"))\n",
    "if user<=50000:\n",
    "    total=user*5/100\n",
    "    print(\"The road tax to be paid is Rs.\",total)\n",
    "elif user>50000 and user<=100000:\n",
    "    total=user*10/100\n",
    "    print(\"The road tax to be paid is Rs.\",total)\n",
    "elif user>100000:\n",
    "    total=user*15/100\n",
    "    print(\"The road tax to be paid is Rs.\",total)"
   ]
  },
  {
   "cell_type": "code",
   "execution_count": 24,
   "id": "74de945b-40fe-4077-96fa-06eacbc2a7cd",
   "metadata": {},
   "outputs": [
    {
     "name": "stdin",
     "output_type": "stream",
     "text": [
      "Enter the city name :  Agra\n"
     ]
    },
    {
     "name": "stdout",
     "output_type": "stream",
     "text": [
      "The monument of that city is Taj Mahal.\n"
     ]
    }
   ],
   "source": [
    "# Q3\n",
    "user=input(\"Enter the city name : \")\n",
    "if user.lower()==\"delhi\":\n",
    "    print(\"The monument of that city is Red Fort.\")\n",
    "elif user.lower()==\"agra\":\n",
    "    print(\"The monument of that city is Taj Mahal.\")\n",
    "elif user.lower()==\"jaipur\":\n",
    "    print(\"The monument of that city is Jal Mahal.\")"
   ]
  },
  {
   "cell_type": "code",
   "execution_count": 25,
   "id": "d5f25b79-0d24-4232-ae58-e66616318349",
   "metadata": {},
   "outputs": [
    {
     "name": "stdin",
     "output_type": "stream",
     "text": [
      "Enter any number :  150\n"
     ]
    },
    {
     "name": "stdout",
     "output_type": "stream",
     "text": [
      "3\n"
     ]
    }
   ],
   "source": [
    "# Q4\n",
    "user=int(input(\"Enter any number : \"))\n",
    "n=0\n",
    "while user>=10:\n",
    "    user=user/3\n",
    "    n+=1\n",
    "print(n)        "
   ]
  },
  {
   "cell_type": "code",
   "execution_count": 26,
   "id": "84e552ce-1123-4ce9-92d4-2c93f757558b",
   "metadata": {},
   "outputs": [
    {
     "name": "stdin",
     "output_type": "stream",
     "text": [
      "Enter the your name :  51535\n"
     ]
    },
    {
     "name": "stdout",
     "output_type": "stream",
     "text": [
      "Name cannot be contain any special characters, integers and blank spaces.\n"
     ]
    },
    {
     "name": "stdin",
     "output_type": "stream",
     "text": [
      "Enter the your name :  shiry\n"
     ]
    },
    {
     "name": "stdout",
     "output_type": "stream",
     "text": [
      "Your name is shiry\n"
     ]
    }
   ],
   "source": [
    "# Q5\n",
    "# while loop :\n",
    "    # The while loop is used when we don't know the number of iterations.\n",
    "# Example:\n",
    "while True:\n",
    "    name=input(\"Enter the your name : \")\n",
    "    if name.isalpha():\n",
    "        print(\"Your name is\",name)\n",
    "        break\n",
    "    else:\n",
    "        print(\"Name cannot be contain any special characters, integers and blank spaces.\")\n",
    "        continue"
   ]
  },
  {
   "cell_type": "code",
   "execution_count": 27,
   "id": "559e2feb-6789-48c4-a127-04ff4faaddbe",
   "metadata": {},
   "outputs": [
    {
     "name": "stdout",
     "output_type": "stream",
     "text": [
      "1\n",
      "22\n",
      "333\n",
      "4444\n",
      "55555\n"
     ]
    }
   ],
   "source": [
    "# Q6\n",
    "# pattern 1\n",
    "i=1\n",
    "while i<=5:\n",
    "    j=1\n",
    "    while j<=i:\n",
    "        print(i,end=\"\")\n",
    "        j+=1\n",
    "    print()\n",
    "    i+=1"
   ]
  },
  {
   "cell_type": "code",
   "execution_count": 28,
   "id": "51ad643c-3dfb-4893-92d4-8d279ab82125",
   "metadata": {},
   "outputs": [
    {
     "name": "stdout",
     "output_type": "stream",
     "text": [
      "1\n",
      "12\n",
      "123\n",
      "1234\n",
      "12345\n"
     ]
    }
   ],
   "source": [
    "# pattern 2\n",
    "i=1\n",
    "while i<=5:\n",
    "    j=1\n",
    "    while j<=i:\n",
    "        print(j,end=\"\")\n",
    "        j+=1\n",
    "    print()\n",
    "    i+=1"
   ]
  },
  {
   "cell_type": "code",
   "execution_count": 29,
   "id": "1a9b89df-8816-484b-a8e5-41499b446630",
   "metadata": {},
   "outputs": [
    {
     "name": "stdout",
     "output_type": "stream",
     "text": [
      "1\n",
      "21\n",
      "321\n",
      "4321\n",
      "54321\n"
     ]
    }
   ],
   "source": [
    "# pattern 3\n",
    "i=1\n",
    "while i<=5:\n",
    "    j=i\n",
    "    while j>0:\n",
    "        print(j,end=\"\")\n",
    "        j-=1\n",
    "    print()\n",
    "    i+=1"
   ]
  },
  {
   "cell_type": "code",
   "execution_count": 30,
   "id": "359a0fd0-b000-4b6d-8f30-0a85f09df782",
   "metadata": {},
   "outputs": [
    {
     "name": "stdout",
     "output_type": "stream",
     "text": [
      "10\n",
      "9\n",
      "8\n",
      "7\n",
      "6\n",
      "5\n",
      "4\n",
      "3\n",
      "2\n",
      "1\n"
     ]
    }
   ],
   "source": [
    "# Q7\n",
    "n=10\n",
    "while n>=1:\n",
    "    print(n)\n",
    "    n-=1"
   ]
  },
  {
   "cell_type": "code",
   "execution_count": 31,
   "id": "80b7f7f5-b43b-4e6a-8a90-24c9b1c296c3",
   "metadata": {},
   "outputs": [
    {
     "name": "stdout",
     "output_type": "stream",
     "text": [
      "10\n",
      "9\n",
      "8\n",
      "7\n",
      "6\n",
      "5\n",
      "4\n",
      "3\n",
      "2\n",
      "1\n"
     ]
    }
   ],
   "source": [
    "# Q8\n",
    "n=10\n",
    "while n>=1:\n",
    "    print(n)\n",
    "    n-=1"
   ]
  }
 ],
 "metadata": {
  "kernelspec": {
   "display_name": "Python 3 (ipykernel)",
   "language": "python",
   "name": "python3"
  },
  "language_info": {
   "codemirror_mode": {
    "name": "ipython",
    "version": 3
   },
   "file_extension": ".py",
   "mimetype": "text/x-python",
   "name": "python",
   "nbconvert_exporter": "python",
   "pygments_lexer": "ipython3",
   "version": "3.10.8"
  }
 },
 "nbformat": 4,
 "nbformat_minor": 5
}
